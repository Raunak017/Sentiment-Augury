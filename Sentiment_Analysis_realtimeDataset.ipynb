{
 "cells": [
  {
   "cell_type": "code",
   "execution_count": 56,
   "metadata": {},
   "outputs": [
    {
     "name": "stdout",
     "output_type": "stream",
     "text": [
      "        PhraseId  SentenceId  \\\n",
      "0              1           1   \n",
      "1              2           1   \n",
      "2              3           1   \n",
      "3              4           1   \n",
      "4              5           1   \n",
      "...          ...         ...   \n",
      "156055    156056        8544   \n",
      "156056    156057        8544   \n",
      "156057    156058        8544   \n",
      "156058    156059        8544   \n",
      "156059    156060        8544   \n",
      "\n",
      "                                                   Phrase  Sentiment  \n",
      "0       A series of escapades demonstrating the adage ...          1  \n",
      "1       A series of escapades demonstrating the adage ...          2  \n",
      "2                                                A series          2  \n",
      "3                                                       A          2  \n",
      "4                                                  series          2  \n",
      "...                                                   ...        ...  \n",
      "156055                                          Hearst 's          2  \n",
      "156056                          forced avuncular chortles          1  \n",
      "156057                                 avuncular chortles          3  \n",
      "156058                                          avuncular          2  \n",
      "156059                                           chortles          2  \n",
      "\n",
      "[156060 rows x 4 columns]\n"
     ]
    }
   ],
   "source": [
    "# Loading Dataset\n",
    "\n",
    "import pandas as pd\n",
    "dataset = pd.read_csv('./train.csv', delimiter=',')\n",
    "print(dataset)\n"
   ]
  },
  {
   "cell_type": "code",
   "execution_count": 57,
   "metadata": {},
   "outputs": [
    {
     "name": "stdout",
     "output_type": "stream",
     "text": [
      "<class 'pandas.core.frame.DataFrame'>\n",
      "RangeIndex: 156060 entries, 0 to 156059\n",
      "Data columns (total 4 columns):\n",
      " #   Column      Non-Null Count   Dtype \n",
      "---  ------      --------------   ----- \n",
      " 0   PhraseId    156060 non-null  int64 \n",
      " 1   SentenceId  156060 non-null  int64 \n",
      " 2   Phrase      156060 non-null  object\n",
      " 3   Sentiment   156060 non-null  int64 \n",
      "dtypes: int64(3), object(1)\n",
      "memory usage: 4.8+ MB\n"
     ]
    }
   ],
   "source": [
    "dataset.info()"
   ]
  },
  {
   "cell_type": "code",
   "execution_count": 58,
   "metadata": {},
   "outputs": [],
   "source": [
    "# Generating counts from text using a vectorizer. \n",
    "\n",
    "from sklearn.feature_extraction.text import CountVectorizer\n",
    "from nltk.tokenize import RegexpTokenizer\n",
    "token = RegexpTokenizer(r'[a-zA-Z0-9]+')\n",
    "cv = CountVectorizer(stop_words='english',ngram_range = (1,1),tokenizer = token.tokenize)\n",
    "text_counts = cv.fit_transform(dataset['Phrase'])"
   ]
  },
  {
   "cell_type": "code",
   "execution_count": 59,
   "metadata": {},
   "outputs": [],
   "source": [
    "# Splitting data 70%-25% into training set and test set\n",
    "\n",
    "from sklearn.model_selection import train_test_split\n",
    "X_train, X_test, Y_train, Y_test = train_test_split(text_counts, dataset['Sentiment'], test_size=0.25, random_state=5)"
   ]
  },
  {
   "cell_type": "code",
   "execution_count": 81,
   "metadata": {},
   "outputs": [
    {
     "name": "stdout",
     "output_type": "stream",
     "text": [
      "[2 2 2 ... 4 0 3]\n"
     ]
    }
   ],
   "source": [
    "#Training Model on the Training set\n",
    "\n",
    "from sklearn.naive_bayes import MultinomialNB\n",
    "model = MultinomialNB()\n",
    "model.fit(X_train, Y_train)\n",
    "y_pred = model.predict(X_test)\n",
    "print(y_pred)"
   ]
  },
  {
   "cell_type": "code",
   "execution_count": 76,
   "metadata": {},
   "outputs": [
    {
     "name": "stdout",
     "output_type": "stream",
     "text": [
      "Confusion Matrix: \n",
      " [[  479   831   411    46     7]\n",
      " [  473  2862  3043   408    27]\n",
      " [  195  1865 15456  2223   159]\n",
      " [   20   333  3317  4056   530]\n",
      " [    2    41   339  1240   652]]\n",
      "Accuacy Score:     0.6024605920799693\n",
      "Precision Score:   0.5120085710238369\n",
      "Recall Score:      0.4489701049287569\n",
      "F-Score:           0.4719594828550105\n"
     ]
    }
   ],
   "source": [
    "#Confusion Matrix and Other Metrics\n",
    "\n",
    "from sklearn.metrics import confusion_matrix, accuracy_score, precision_score, recall_score, f1_score\n",
    "\n",
    "cm = confusion_matrix(Y_test, y_pred)\n",
    "print('Confusion Matrix: \\n',cm)\n",
    "print('Accuacy Score:    ',accuracy_score(Y_test, y_pred))\n",
    "print('Precision Score:  ',precision_score(Y_test, y_pred, pos_label='positive',average='macro'))\n",
    "print('Recall Score:     ',recall_score(Y_test, y_pred, pos_label='positive',average='macro'))\n",
    "print('F-Score:          ',f1_score(Y_test, y_pred, pos_label='positive',average='macro'))"
   ]
  }
 ],
 "metadata": {
  "kernelspec": {
   "display_name": "Python 3",
   "language": "python",
   "name": "python3"
  },
  "language_info": {
   "codemirror_mode": {
    "name": "ipython",
    "version": 3
   },
   "file_extension": ".py",
   "mimetype": "text/x-python",
   "name": "python",
   "nbconvert_exporter": "python",
   "pygments_lexer": "ipython3",
   "version": "3.7.6"
  }
 },
 "nbformat": 4,
 "nbformat_minor": 4
}
